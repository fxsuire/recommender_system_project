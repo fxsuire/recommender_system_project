{
 "cells": [
  {
   "cell_type": "code",
   "execution_count": null,
   "metadata": {},
   "outputs": [],
   "source": [
    "%load_ext autoreload\n",
    "%autoreload 2"
   ]
  },
  {
   "cell_type": "markdown",
   "metadata": {},
   "source": [
    "# Dataset"
   ]
  },
  {
   "cell_type": "code",
   "execution_count": null,
   "metadata": {},
   "outputs": [],
   "source": [
    "import pandas as pd\n",
    "from pathlib import Path\n",
    "\n",
    "DATASET_FOLDER = Path('../data/the_movies_dataset')\n",
    "\n",
    "SMALL_DATASET = True\n",
    "\n",
    "RATINGS_FILEPATH = DATASET_FOLDER / 'ratings_small.csv' if SMALL_DATASET else DATASET_FOLDER / 'ratings.csv'\n",
    "MOVIES_FILEPATH = DATASET_FOLDER / 'movies_metadata.csv'\n",
    "LINKS_FILEPATH = DATASET_FOLDER / 'links_small.csv' if SMALL_DATASET else DATASET_FOLDER / 'links.csv'\n",
    "KEYWORDS_FILEPATH = DATASET_FOLDER / 'keywords.csv'\n",
    "CREDITS_FILEPATH = DATASET_FOLDER / 'credits.csv'"
   ]
  },
  {
   "cell_type": "code",
   "execution_count": null,
   "metadata": {},
   "outputs": [],
   "source": [
    "ratings = pd.read_csv(RATINGS_FILEPATH)\n",
    "movies = pd.read_csv(MOVIES_FILEPATH)\n",
    "keywords = pd.read_csv(KEYWORDS_FILEPATH)\n",
    "credits = pd.read_csv(CREDITS_FILEPATH)"
   ]
  },
  {
   "cell_type": "markdown",
   "metadata": {},
   "source": [
    "# Content-based"
   ]
  },
  {
   "cell_type": "code",
   "execution_count": null,
   "metadata": {},
   "outputs": [],
   "source": [
    "from recommmender_system_project.content_based_recommender_system import ContentBasedRecommenderSystem\n",
    "\n",
    "content_based = ContentBasedRecommenderSystem(ratings, movies, keywords, credits)"
   ]
  },
  {
   "cell_type": "code",
   "execution_count": null,
   "metadata": {},
   "outputs": [],
   "source": [
    "content_based.recommend_movies_to_user(3, 10)"
   ]
  },
  {
   "cell_type": "code",
   "execution_count": null,
   "metadata": {},
   "outputs": [],
   "source": []
  }
 ],
 "metadata": {
  "kernelspec": {
   "display_name": "Python 3",
   "language": "python",
   "name": "python3"
  },
  "language_info": {
   "codemirror_mode": {
    "name": "ipython",
    "version": 3
   },
   "file_extension": ".py",
   "mimetype": "text/x-python",
   "name": "python",
   "nbconvert_exporter": "python",
   "pygments_lexer": "ipython3",
   "version": "3.8.5"
  },
  "toc": {
   "base_numbering": 1,
   "nav_menu": {},
   "number_sections": true,
   "sideBar": true,
   "skip_h1_title": false,
   "title_cell": "Table of Contents",
   "title_sidebar": "Contents",
   "toc_cell": false,
   "toc_position": {},
   "toc_section_display": true,
   "toc_window_display": false
  }
 },
 "nbformat": 4,
 "nbformat_minor": 4
}
